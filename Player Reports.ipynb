{
 "cells": [
  {
   "cell_type": "code",
   "execution_count": 102,
   "id": "f1b815c0",
   "metadata": {},
   "outputs": [],
   "source": [
    "import pandas as pd\n",
    "import numpy as np\n",
    "from ipywidgets import interact, interactive, fixed, interact_manual\n",
    "import ipywidgets as widgets\n",
    "from IPython.display import clear_output"
   ]
  },
  {
   "cell_type": "code",
   "execution_count": 73,
   "id": "ea30ae0c",
   "metadata": {},
   "outputs": [],
   "source": [
    "mbb_url = [\"https://docs.google.com/spreadsheets/d/1BcIP7CIYDTNnedcRG3U3HAIwluaJtz8LCAKfArlEh98/edit#gid=2032963821\".replace('/edit#gid=', '/export?format=csv&gid='),\n",
    "            \"https://docs.google.com/spreadsheets/d/1BcIP7CIYDTNnedcRG3U3HAIwluaJtz8LCAKfArlEh98/edit#gid=1904120862\".replace('/edit#gid=', '/export?format=csv&gid='),\n",
    "            \"https://docs.google.com/spreadsheets/d/1BcIP7CIYDTNnedcRG3U3HAIwluaJtz8LCAKfArlEh98/edit#gid=2056191088\".replace('/edit#gid=', '/export?format=csv&gid=')]\n",
    "\n",
    "wbb_url = [\"https://docs.google.com/spreadsheets/d/12JWqAMfVrSZobLohmxQK6PyrbNbOQbM6ux4LxXqWenM/edit#gid=2032963821\".replace('/edit#gid=', '/export?format=csv&gid='),\n",
    "           \"https://docs.google.com/spreadsheets/d/12JWqAMfVrSZobLohmxQK6PyrbNbOQbM6ux4LxXqWenM/edit#gid=748348799\".replace('/edit#gid=', '/export?format=csv&gid='),\n",
    "           \"https://docs.google.com/spreadsheets/d/12JWqAMfVrSZobLohmxQK6PyrbNbOQbM6ux4LxXqWenM/edit#gid=2056191088\".replace('/edit#gid=', '/export?format=csv&gid=')]"
   ]
  },
  {
   "cell_type": "code",
   "execution_count": 74,
   "id": "99a44114",
   "metadata": {},
   "outputs": [],
   "source": [
    "mbb_game_dates = [\"10/28/22\", \"11/1/22\"]\n",
    "wbb_game_dates = [\"10/29/22\", \"11/5/22\"]\n",
    "teams_played = ['Hope', 'Elmhurst', 'Concordia', 'Edgewood']"
   ]
  },
  {
   "cell_type": "markdown",
   "id": "2b72c21f",
   "metadata": {},
   "source": [
    "## Data"
   ]
  },
  {
   "cell_type": "code",
   "execution_count": 77,
   "id": "8823bacb",
   "metadata": {},
   "outputs": [],
   "source": [
    "regions = {'P' : 'Paint', \n",
    "           'LC' : 'Left Corner', \n",
    "           'LE' : 'Left Elbow', \n",
    "           'RE' : 'Right Elbow',\n",
    "           'TK' : 'Top of Key', \n",
    "           'LW' : 'Left Wing', \n",
    "           'RW' : 'Right Wing', \n",
    "           'T' : 'Top', \n",
    "           'RB' : 'Right Baseline', \n",
    "           'RC' : 'Right Corner',\n",
    "           'LB' : 'Left Baseline'}"
   ]
  },
  {
   "cell_type": "code",
   "execution_count": 78,
   "id": "3dba692b",
   "metadata": {},
   "outputs": [],
   "source": [
    "post_regions = {'L' : 'Left',\n",
    "               'C' : 'Center',\n",
    "               'R' : 'Right'}\n",
    "\n",
    "post_distances = {'S' : 'Short',\n",
    "                  'L' : 'Long'}"
   ]
  },
  {
   "cell_type": "code",
   "execution_count": 79,
   "id": "5e0cf5e3",
   "metadata": {},
   "outputs": [],
   "source": [
    "shot_types = {'S' : 'Catch & Shoot (Set)',\n",
    "              'M' : 'Catch & Shoot (Moving)',\n",
    "              'F' : 'Floater',\n",
    "              'H' : 'Hook Shot',\n",
    "              'L' : 'Layup',\n",
    "              'B' : 'Stepback',\n",
    "              'P' : 'Pull-Up'}"
   ]
  },
  {
   "cell_type": "code",
   "execution_count": 80,
   "id": "4b7ebd4c",
   "metadata": {},
   "outputs": [],
   "source": [
    "turnover_types = {'DRIVE' : 'Drive',\n",
    "                  'DP' : 'Drive + Pass',\n",
    "                  'PASS' : 'Reversal/Pass',\n",
    "                  'PER' : 'Perimeter/Strip',\n",
    "                  'POST' : 'Post Entry',\n",
    "                  'SCREEN' : 'Off-Ball',\n",
    "                  'KEY' : 'Off-Ball'}"
   ]
  },
  {
   "cell_type": "markdown",
   "id": "64585b2a",
   "metadata": {},
   "source": [
    "## Datasets"
   ]
  },
  {
   "cell_type": "code",
   "execution_count": 93,
   "id": "0414476a",
   "metadata": {},
   "outputs": [],
   "source": [
    "def load_data(team):\n",
    "    if team:\n",
    "        current = mbb_url\n",
    "        current_dates = mbb_game_dates\n",
    "    else:\n",
    "        current = wbb_url\n",
    "        current_dates = wbb_game_dates\n",
    "\n",
    "    shots_df = pd.read_csv(current[0])\n",
    "    posts_df = pd.read_csv(current[1])\n",
    "    tovs_df = pd.read_csv(current[2])\n",
    "\n",
    "    regions3 = ['RC', 'LC', 'LW', 'RW', 'T']\n",
    "    shots_df['Range'] = shots_df.Region.apply(lambda i : i in regions3)\n",
    "    shots_df['Range'] = shots_df['Range'].map({False : \"2-Point\", True : \"3-Point\"})\n",
    "\n",
    "    shots_df['Game'] = shots_df.Date.apply(lambda i : i in current_dates)\n",
    "    posts_df['Game'] = posts_df.Date.apply(lambda i : i in current_dates)\n",
    "    tovs_df['Game'] = tovs_df.Date.apply(lambda i : i in current_dates)\n",
    "\n",
    "    shots_df = shots_df[(~shots_df.Game)]\n",
    "    posts_df = posts_df[(~posts_df.Game)]\n",
    "    tovs_df = tovs_df[(~tovs_df.Game)]\n",
    "    \n",
    "    shots_df.Region = shots_df.Region.map(regions)\n",
    "    shots_df['Shot Type'] = shots_df['Shot Type'].map(shot_types)\n",
    "\n",
    "    posts_df.Region = posts_df.Region.map(post_regions)\n",
    "    posts_df.Distance = posts_df.Distance.map(post_distances)\n",
    "    \n",
    "    return [shots_df, posts_df, tovs_df]"
   ]
  },
  {
   "cell_type": "code",
   "execution_count": 94,
   "id": "284f444e",
   "metadata": {},
   "outputs": [],
   "source": [
    "mbb = load_data(True)\n",
    "wbb = load_data(False)"
   ]
  },
  {
   "cell_type": "markdown",
   "id": "f4ee7284",
   "metadata": {},
   "source": [
    "## Player Report"
   ]
  },
  {
   "cell_type": "code",
   "execution_count": 168,
   "id": "354364fa",
   "metadata": {},
   "outputs": [],
   "source": [
    "def pick_team(Team):\n",
    "    global selected_team\n",
    "    global players\n",
    "    \n",
    "    selected_team = Team\n",
    "        \n",
    "    if Team == \"Men's Team\":\n",
    "        players = ['All Players'] + list(pd.unique(mbb[0].Player))\n",
    "    else:\n",
    "        players = ['All Players'] + list(pd.unique(wbb[0].Player))\n",
    "    \n",
    "    clear_output()\n",
    "    interact(player_report, Player=players)\n",
    "    \n",
    "    return None"
   ]
  },
  {
   "cell_type": "code",
   "execution_count": 169,
   "id": "24e71233",
   "metadata": {
    "scrolled": true
   },
   "outputs": [],
   "source": [
    "def player_report(Player):\n",
    "    if selected_team == \"Men's Team\":\n",
    "        shots_df = mbb[0]\n",
    "        posts_df = mbb[1]\n",
    "        tovs_df = mbb[2]\n",
    "    else:\n",
    "        shots_df = wbb[0]\n",
    "        posts_df = wbb[1]\n",
    "        tovs_df = wbb[2]\n",
    "    \n",
    "    if Player != 'All Players':\n",
    "        shots_df = shots_df[shots_df.Player == Player]\n",
    "        posts_df = posts_df[posts_df.Player == Player]\n",
    "        tovs_df = tovs_df[tovs_df.Player == Player]\n",
    "    \n",
    "    range_table = shots_df.groupby('Range')['Outcome'].agg([np.sum, len])\n",
    "    range_table.columns = ['FGM', 'FGA']\n",
    "    range_table.loc['Total'] = list(range_table.sum().values)\n",
    "    range_table['FG%'] = 100 * range_table['FGM'] / range_table['FGA']\n",
    "    range_table = range_table.sort_values(by='FG%', ascending=False).round(1)\n",
    "    \n",
    "    region = shots_df.groupby('Region')['Outcome'].agg([np.sum, len])\n",
    "    region.columns = ['FGM', 'FGA']\n",
    "    region['FG%'] = 100 * region['FGM'] / region['FGA']\n",
    "    region = region.sort_values(by='FG%', ascending=False).round(1)\n",
    "\n",
    "    shot_type = shots_df.groupby('Shot Type')['Outcome'].agg([np.sum, len])\n",
    "    shot_type.columns = ['FGM', 'FGA']\n",
    "    shot_type['FG%'] = 100 * shot_type['FGM'] / shot_type['FGA']\n",
    "    shot_type = shot_type.sort_values(by='FG%', ascending=False).round(1)\n",
    "    \n",
    "    post_region = posts_df.groupby('Region').count()\n",
    "    post_region = pd.DataFrame( post_region.iloc[:, 1] )\n",
    "    post_region.columns = ['Count']\n",
    "    post_region = post_region.sort_values(by='Count', ascending=False)\n",
    "    \n",
    "    post_distance = posts_df.groupby('Distance').count()\n",
    "    post_distance = pd.DataFrame( post_distance.iloc[:, 1] )\n",
    "    post_distance.columns = ['Count']\n",
    "    post_distance = post_distance.sort_values(by='Count', ascending=False)\n",
    "\n",
    "    turnover_type = tovs_df.groupby('Turnover Type').count()\n",
    "    turnover_type = pd.DataFrame( turnover_type.iloc[:, 1] )\n",
    "    turnover_type.columns = ['Count']\n",
    "    turnover_type = turnover_type.sort_values(by='Count', ascending=False)\n",
    "\n",
    "    clear_output()\n",
    "    display(range_table)\n",
    "    display(region)\n",
    "    display(shot_type)\n",
    "    if len(post_region) != 0:\n",
    "        display(post_region)\n",
    "    if len(post_distance != 0):\n",
    "        display(post_distance)\n",
    "    display(turnover_type)"
   ]
  },
  {
   "cell_type": "code",
   "execution_count": 170,
   "id": "cb6b02e7",
   "metadata": {
    "scrolled": false
   },
   "outputs": [
    {
     "data": {
      "application/vnd.jupyter.widget-view+json": {
       "model_id": "c7f9e95cee9847b1a77c9f8c8ad78f6d",
       "version_major": 2,
       "version_minor": 0
      },
      "text/plain": [
       "interactive(children=(Dropdown(description='Team', options=(\"Men's Team\", \"Women's Team\"), value=\"Men's Team\")…"
      ]
     },
     "metadata": {},
     "output_type": "display_data"
    },
    {
     "data": {
      "text/plain": [
       "<function __main__.pick_team(Team)>"
      ]
     },
     "execution_count": 170,
     "metadata": {},
     "output_type": "execute_result"
    }
   ],
   "source": [
    "interact(pick_team, Team=[\"Men's Team\", \"Women's Team\"])"
   ]
  },
  {
   "cell_type": "code",
   "execution_count": null,
   "id": "2c82b58e",
   "metadata": {},
   "outputs": [],
   "source": []
  },
  {
   "cell_type": "code",
   "execution_count": null,
   "id": "005f0f39",
   "metadata": {},
   "outputs": [],
   "source": []
  }
 ],
 "metadata": {
  "kernelspec": {
   "display_name": "Python 3",
   "language": "python",
   "name": "python3"
  },
  "language_info": {
   "codemirror_mode": {
    "name": "ipython",
    "version": 3
   },
   "file_extension": ".py",
   "mimetype": "text/x-python",
   "name": "python",
   "nbconvert_exporter": "python",
   "pygments_lexer": "ipython3",
   "version": "3.9.13"
  }
 },
 "nbformat": 4,
 "nbformat_minor": 5
}
