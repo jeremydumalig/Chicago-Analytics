{
 "cells": [
  {
   "cell_type": "code",
   "execution_count": 77,
   "metadata": {},
   "outputs": [],
   "source": [
    "from webdriver_manager.chrome import ChromeDriverManager\n",
    "from selenium import webdriver\n",
    "from bs4 import BeautifulSoup\n",
    "import pandas as pd\n",
    "import numpy as np\n",
    "import os\n",
    "\n",
    "pd.options.mode.chained_assignment = None\n",
    "pd.set_option('display.max_rows', None)\n",
    "pd.set_option('display.max_colwidth', None)"
   ]
  },
  {
   "cell_type": "code",
   "execution_count": 78,
   "metadata": {},
   "outputs": [],
   "source": [
    "# Extract player name from play-by-play action\n",
    "# Ex. \"Foul by LAST_NAME,FIRST_NAME\"\n",
    "def extract_player(action):\n",
    "    player_raw = [i for i in action.split() if \",\" in i] # Ex. ['LAST_NAME,FIRST_NAME']\n",
    "    \n",
    "    if len(player_raw) == 0: # Ex. team timeout\n",
    "        player = \"\"\n",
    "    else:\n",
    "        player = list(reversed(player_raw[0].split(\",\"))) # split by comma, reverse list\n",
    "        player = \" \".join(player).title() # reduce to one string, fix capitalization\n",
    "\n",
    "        # outliers\n",
    "        if \"Soest\" in player:\n",
    "            player = 'Peyton Van Soest'\n",
    "        \n",
    "    return player #Ex. 'Stephen Curry'"
   ]
  },
  {
   "cell_type": "code",
   "execution_count": 79,
   "metadata": {},
   "outputs": [],
   "source": [
    "# Extract attributes from HTML of play-by-play action, \n",
    "# status of Chicago team (home or away), and quarter\n",
    "def clean_row(row, chicago, quarter):\n",
    "    time = row.find('td', {'class' : 'time'}).string\n",
    "\n",
    "    scores = row.find_all('span', {'class' : ['v-score', 'h-score']})\n",
    "    if len(scores) == 0:\n",
    "        score = \"0-0\"\n",
    "    else:\n",
    "        score = '-'.join([i.string for i in scores])\n",
    "        \n",
    "    # Identify the team repsonsible for the action\n",
    "    action_team = row.find('img')['alt']\n",
    "    if action_team == \"Chicago\":\n",
    "        team = chicago\n",
    "    else:\n",
    "        if chicago == 'Home':\n",
    "            team = 'Away'\n",
    "        else:\n",
    "            team = 'Home'\n",
    "        \n",
    "    try:\n",
    "        action = row.find('span', {'class' : 'text'}).string.strip()\n",
    "    except:\n",
    "        action = row.find('strong').string # timeouts are contained in bold tags\n",
    "    action = ' '.join(action.split())\n",
    "    action = action.replace(\"\\n\", \"\")\n",
    "    \n",
    "    substitution = 0\n",
    "    if \"the\" in action: # all substitution actions end in \"enters the game\" or \"goes to the bench\"\n",
    "        substitution = 1\n",
    "\n",
    "    player = extract_player(action)\n",
    "\n",
    "    return [quarter, time, score, team, action, substitution, player]"
   ]
  },
  {
   "cell_type": "code",
   "execution_count": 80,
   "metadata": {},
   "outputs": [],
   "source": [
    "# Scrape play-by-play data from url, return dataframe of game actions\n",
    "def uaa_pbp(d, url, chicago, opponent):\n",
    "    d.get(url)\n",
    "    soup = BeautifulSoup(d.page_source, 'html.parser')\n",
    "\n",
    "    quarter = soup.find_all('table', { 'role' : 'presentation' })\n",
    "    first = quarter[0].find_all('tr', {'class' : 'row'})\n",
    "    second = quarter[1].find_all('tr', {'class' : 'row'})\n",
    "    third = quarter[2].find_all('tr', {'class' : 'row'})\n",
    "    fourth = quarter[3].find_all('tr', {'class' : 'row'})\n",
    "    \n",
    "    date = soup.find_all('h1')[1].find('span').text\n",
    "\n",
    "    first_qr = [[date, chicago, opponent] + clean_row(r, chicago, 1) for r in first]\n",
    "    second_qr = [[date, chicago, opponent] + clean_row(r, chicago, 2) for r in second]\n",
    "    third_qr = [[date, chicago, opponent] + clean_row(r, chicago, 3) for r in third]\n",
    "    fourth_qr = [[date, chicago, opponent] + clean_row(r, chicago, 4) for r in fourth]\n",
    "\n",
    "    game = pd.DataFrame(first_qr + second_qr + third_qr + fourth_qr, \n",
    "                      columns = ['Date', 'Chicago', 'Opponent', 'Quarter', 'Time', 'Score', 'Team', 'Action', 'Substitution', 'Player'])\n",
    "\n",
    "    return game"
   ]
  },
  {
   "cell_type": "code",
   "execution_count": 81,
   "metadata": {},
   "outputs": [],
   "source": [
    "# Iterate through each action and determine the lineup (only changes on subtitution actions)\n",
    "def generate_lineups(df, team, starters):\n",
    "    starters_copy = starters.copy()\n",
    "    current = starters\n",
    "\n",
    "    lineups = [\", \".join(starters)]\n",
    "    \n",
    "    for x in range(1, len(df)):\n",
    "        action = df.Action[x]\n",
    "        \n",
    "        # First play of half (only for certain teams)\n",
    "        if (df.Quarter[x] % 2 == 0) and (df.Date[x] == \"January 28, 2022\"):\n",
    "            current = starters_copy\n",
    "        \n",
    "        # Lineup doesn't change if other team is responsible for action\n",
    "        if df.Team[x] != team:\n",
    "            lineups.append( \", \".join(current) )\n",
    "            continue\n",
    "            \n",
    "        # Change lineup on substitution plays\n",
    "        player = extract_player(action)\n",
    "        \n",
    "        # outlier\n",
    "        if (action == \"POWE,MARISSA enters the game\") and (action == df.Action[x-3]):\n",
    "            action = \"VAN SOEST,PEYTON enters the game\"\n",
    "            df.loc[x, 'Action'] = action\n",
    "        elif x > 5: # filter for 5th play or later\n",
    "            if (df.Date[x] == 'January 28, 2022') and (df.Time[x] == \"02:45\") and (df.Quarter[x] == 4):\n",
    "                lineups.append(\"Kati Heller, Mallory Brodnik, Sophia North, Peyton Van Soest, Grace Hynes\")\n",
    "                continue\n",
    "        \n",
    "        if (\"game\" in action) and (player not in current): # sub in\n",
    "                current.append(player)\n",
    "        elif (\"bench\" in action) and (player in current): # sub out\n",
    "            current.remove(player)\n",
    "\n",
    "        lineups.append( \", \".join(current) )\n",
    "\n",
    "    return lineups"
   ]
  },
  {
   "cell_type": "code",
   "execution_count": 1,
   "metadata": {},
   "outputs": [],
   "source": [
    "# Pull points scored from each action/play\n",
    "def points_scored(action):\n",
    "    if \"made 3\" in action:\n",
    "        return 3\n",
    "    elif \"made free\" in action:\n",
    "        return 1\n",
    "    elif \"made\" in action:\n",
    "        return 2\n",
    "    else:\n",
    "        return 0"
   ]
  },
  {
   "cell_type": "code",
   "execution_count": 82,
   "metadata": {},
   "outputs": [],
   "source": [
    "# Scrape single game from box score url\n",
    "def game_scraper(d, box_url):\n",
    "    d.get(box_url)\n",
    "    soup = BeautifulSoup(d.page_source, 'html.parser')\n",
    "    \n",
    "    # First logo tag belongs to away team : if it is Chicago's logo, then Chicago is the away team\n",
    "    uc_logo = \"https://cdn.prestosports.com/action/cdn/logos/rpi/137/mbkb.png\"\n",
    "    if uc_logo == soup.find('div', {'class' : 'team-logo'}).find('img')['src']:\n",
    "        chicago = \"Away\"\n",
    "    else:\n",
    "        chicago = \"Home\"\n",
    "        \n",
    "    teams = [t.text.strip() for t in soup.find_all('tbody')[0].find_all('th', {'class' : 'name'})]\n",
    "    opponent = [t for t in teams if t != 'Chicago'][0]\n",
    "    \n",
    "    chicago_players = [a.string for a in soup.find_all('a', {'class' : 'player-name'})]\n",
    "    chicago_players = chicago_players[0:int(len(chicago_players) / 3)]\n",
    "    chicago_starters = \", \".join(chicago_players[0:5])\n",
    "    \n",
    "    # Scrape play-by-play data using function defined above\n",
    "    pbp_url = \"https://athletics.uchicago.edu\" + soup.find('a', {'id' : 'pbp'})['href']\n",
    "    df = uaa_pbp(d, pbp_url, chicago, opponent)\n",
    "    \n",
    "    # Add lineup column based on home/away status\n",
    "    df['Lineup'] = generate_lineups(df, chicago, chicago_players[0:5])\n",
    "    \n",
    "    return df"
   ]
  },
  {
   "cell_type": "code",
   "execution_count": 83,
   "metadata": {},
   "outputs": [],
   "source": [
    "# Scrape entire season for Chicago based on schedule url\n",
    "def uaa_scraper(schedule_url):\n",
    "    driver = webdriver.Chrome(ChromeDriverManager().install())\n",
    "    driver.get(schedule_url)\n",
    "    soup = BeautifulSoup(driver.page_source, 'html.parser')\n",
    "    \n",
    "    games = soup.find_all('a', {'class' : 'link'})[1::2]\n",
    "    game_links = [\"https://athletics.uchicago.edu\" + i['href'] for i in games]\n",
    "    games = [game_scraper(driver, g) for g in game_links]\n",
    "    \n",
    "    driver.quit()\n",
    "\n",
    "    return games"
   ]
  },
  {
   "cell_type": "code",
   "execution_count": 84,
   "metadata": {},
   "outputs": [
    {
     "name": "stdout",
     "output_type": "stream",
     "text": [
      "\n"
     ]
    },
    {
     "name": "stderr",
     "output_type": "stream",
     "text": [
      "[WDM] - ====== WebDriver manager ======\n",
      "[WDM] - Current google-chrome version is 102.0.5005\n",
      "[WDM] - Get LATEST chromedriver version for 102.0.5005 google-chrome\n",
      "[WDM] - Driver [/Users/jeremydumalig/.wdm/drivers/chromedriver/mac64/102.0.5005.61/chromedriver] found in cache\n",
      "/var/folders/91/7lxj2xq13852sql471wdl0pw0000gn/T/ipykernel_50085/99252128.py:3: DeprecationWarning: executable_path has been deprecated, please pass in a Service object\n",
      "  driver = webdriver.Chrome(ChromeDriverManager().install())\n"
     ]
    }
   ],
   "source": [
    "game_logs = uaa_scraper(\"https://athletics.uchicago.edu/sports/wbkb/2021-22/schedule\")"
   ]
  },
  {
   "cell_type": "code",
   "execution_count": 85,
   "metadata": {},
   "outputs": [],
   "source": [
    "uchicago = pd.concat(game_logs).reset_index(drop=True)\n",
    "\n",
    "dates = uchicago.groupby('Date').count().reset_index().iloc[:, 0:2]\n",
    "dates['Date'] = pd.to_datetime(dates['Date'])\n",
    "dates = dates.sort_values(by=['Date']).reset_index(drop=True)\n",
    "\n",
    "game_numbers = []\n",
    "for x in range(dates.shape[0]):\n",
    "    for y in range(dates[dates.index == x]['Chicago'].values[0]):\n",
    "        game_numbers.append(x+1)\n",
    "\n",
    "uchicago['Game'] = game_numbers\n",
    "        \n",
    "boundaries = [1]\n",
    "for x in range(1, len(uchicago) - 1):\n",
    "    curent_game = uchicago.iloc[x]['Game']\n",
    "    previous_game = uchicago.iloc[x-1]['Game']\n",
    "    next_game = uchicago.iloc[x+1]['Game']\n",
    "    \n",
    "    if curent_game != previous_game:\n",
    "        boundaries.append(1)\n",
    "    elif curent_game != next_game:\n",
    "        boundaries.append(-1)\n",
    "    else:\n",
    "        boundaries.append(0)\n",
    "    \n",
    "uchicago['Boundary']= boundaries + [1]\n",
    "\n",
    "uchicago['Lineup'] = [\", \".join(sorted(l.split(\", \"))) for l in uchicago.Lineup.values]\n",
    "\n",
    "uchicago.to_csv(\"w_uchicago_pbp.csv\")"
   ]
  },
  {
   "cell_type": "code",
   "execution_count": null,
   "metadata": {},
   "outputs": [],
   "source": []
  },
  {
   "cell_type": "code",
   "execution_count": 87,
   "metadata": {},
   "outputs": [],
   "source": [
    "uchicago = pd.read_csv(\"w_uchicago_pbp.csv\").iloc[:, 1:]"
   ]
  },
  {
   "cell_type": "code",
   "execution_count": null,
   "metadata": {},
   "outputs": [],
   "source": []
  }
 ],
 "metadata": {
  "kernelspec": {
   "display_name": "Python 3",
   "language": "python",
   "name": "python3"
  },
  "language_info": {
   "codemirror_mode": {
    "name": "ipython",
    "version": 3
   },
   "file_extension": ".py",
   "mimetype": "text/x-python",
   "name": "python",
   "nbconvert_exporter": "python",
   "pygments_lexer": "ipython3",
   "version": "3.9.13"
  }
 },
 "nbformat": 4,
 "nbformat_minor": 4
}
