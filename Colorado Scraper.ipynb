{
 "cells": [
  {
   "cell_type": "code",
   "execution_count": 195,
   "id": "5fc1ded2",
   "metadata": {},
   "outputs": [],
   "source": [
    "from webdriver_manager.chrome import ChromeDriverManager\n",
    "from selenium import webdriver\n",
    "from bs4 import BeautifulSoup\n",
    "import pandas as pd\n",
    "import numpy as np\n",
    "import os\n",
    "\n",
    "pd.options.mode.chained_assignment = None\n",
    "pd.set_option('display.max_rows', None)\n",
    "pd.set_option('display.max_colwidth', None)"
   ]
  },
  {
   "cell_type": "code",
   "execution_count": 196,
   "id": "142c0fa1",
   "metadata": {},
   "outputs": [
    {
     "name": "stdout",
     "output_type": "stream",
     "text": [
      "\n"
     ]
    },
    {
     "name": "stderr",
     "output_type": "stream",
     "text": [
      "[WDM] - ====== WebDriver manager ======\n",
      "[WDM] - Current google-chrome version is 107.0.5304\n",
      "[WDM] - Get LATEST chromedriver version for 107.0.5304 google-chrome\n",
      "[WDM] - Driver [/Users/jeremydumalig/.wdm/drivers/chromedriver/mac64/107.0.5304.62/chromedriver] found in cache\n",
      "/var/folders/91/7lxj2xq13852sql471wdl0pw0000gn/T/ipykernel_43735/3167238115.py:1: DeprecationWarning: executable_path has been deprecated, please pass in a Service object\n",
      "  driver = webdriver.Chrome(ChromeDriverManager().install())\n"
     ]
    }
   ],
   "source": [
    "driver = webdriver.Chrome(ChromeDriverManager().install())\n",
    "\n",
    "fox = \"https://cctigers.com/sports/mens-basketball/stats/2022-2023/george-fox-university/boxscore/8903\"\n",
    "braska = \"https://cctigers.com/sports/mens-basketball/stats/2022-2023/nebraska-wesleyan-university/boxscore/8905\"\n",
    "\n",
    "driver.get(fox)\n",
    "soup_fox = BeautifulSoup(driver.page_source, 'html.parser')\n",
    "driver.get(braska)\n",
    "soup_braska = BeautifulSoup(driver.page_source, 'html.parser')\n",
    "\n",
    "driver.quit()"
   ]
  },
  {
   "cell_type": "code",
   "execution_count": 197,
   "id": "30aa450a",
   "metadata": {},
   "outputs": [],
   "source": [
    "half1 = soup_fox.find_all('table', {'class' : 'sidearm-table play-by-play'})[0]\n",
    "half2 = soup_fox.find_all('table', {'class' : 'sidearm-table play-by-play'})[1]\n",
    "half3 = soup_braska.find_all('table', {'class' : 'sidearm-table play-by-play'})[0]\n",
    "half4 = soup_braska.find_all('table', {'class' : 'sidearm-table play-by-play'})[1]"
   ]
  },
  {
   "cell_type": "code",
   "execution_count": 202,
   "id": "69c6a633",
   "metadata": {},
   "outputs": [],
   "source": [
    "def action_team_fox(action):\n",
    "    if \"by\" in [i.text for i in action][0]:\n",
    "        return 'Opponent'\n",
    "    else:\n",
    "        return 'Colorado'\n",
    "    \n",
    "def action_team_braska(action):\n",
    "    if \"by\" in [i.text for i in action][0]:\n",
    "        return 'Colorado'\n",
    "    else:\n",
    "        return 'Opponent'"
   ]
  },
  {
   "cell_type": "code",
   "execution_count": 281,
   "id": "53df5f05",
   "metadata": {},
   "outputs": [],
   "source": [
    "def soup_to_df(half, opp):\n",
    "    times = [i.find('td').text for i in half.find_all('tr')[1:]]\n",
    "\n",
    "    raw_actions = [i.find_all('td', {'class' : 'hide-on-medium-down'}) for i in half.find_all('tr')[1:]]\n",
    "    actions = [[i.text for i in action if 'by' in i.text][0] for action in raw_actions]\n",
    "\n",
    "    if opp == 'Fox':\n",
    "        teams = [action_team_fox(a) for a in raw_actions]\n",
    "    else:\n",
    "        teams = [action_team_braska(a) for a in raw_actions]\n",
    "\n",
    "    game = pd.DataFrame({'Time' : [\"20:00\"] + times, \n",
    "                         'Action' : [\"TIP by \"] + actions, \n",
    "                         'Team' : [teams[0]] + teams})\n",
    "    \n",
    "    game['Action'] = game['Action'].apply(lambda s : s.split(\" by \")[0])\n",
    "    \n",
    "    return game\n",
    "\n",
    "df1 = soup_to_df(half1, 'Fox')\n",
    "df2 = soup_to_df(half2, 'Fox')\n",
    "df3 = soup_to_df(half3, 'Braska')\n",
    "df4 = soup_to_df(half4, 'Braska')"
   ]
  },
  {
   "cell_type": "code",
   "execution_count": 286,
   "id": "73154efc",
   "metadata": {},
   "outputs": [],
   "source": [
    "def time_passed(start, end):\n",
    "    if (start == \"--\") and (end == \"02:34\"):\n",
    "        return 21\n",
    "    if (start == \"10:39\") and (end == \"--\"):\n",
    "        return 0\n",
    "    \n",
    "    start_time = int(start.split(\":\")[0])*60 + int(start.split(\":\")[1])\n",
    "    end_time = int(end.split(\":\")[0])*60 + int(end.split(\":\")[1])\n",
    "    \n",
    "    if start_time > end_time:\n",
    "        return start_time - end_time\n",
    "    else:\n",
    "        return 0"
   ]
  },
  {
   "cell_type": "code",
   "execution_count": 369,
   "id": "e165d89f",
   "metadata": {
    "scrolled": true
   },
   "outputs": [],
   "source": [
    "def possession_length(df):\n",
    "    possessions = []\n",
    "    current = 1\n",
    "    for x in range(0, len(df)):\n",
    "        indexer = df.shape[0] - x - 1\n",
    "        if ('MISS' in df.Action.values[indexer]) | ('GOOD' in df.Action.values[indexer]) | ('TURNOVER' in df.Action.values[indexer]):\n",
    "            possessions.append(current)\n",
    "            current += 1\n",
    "        else:\n",
    "            possessions.append(current)\n",
    "\n",
    "    df['Possession'] = possessions[::-1]\n",
    "\n",
    "    lengths = []\n",
    "    outcomes = []\n",
    "    for x in pd.unique(df.Possession):\n",
    "        new_df = pd.concat([df[(df.Possession == x)],\n",
    "                            df[(df.index == 1 + df[(df.Possession == x)].index.values[-1])] ])\n",
    "\n",
    "        new_df = new_df[(~new_df.Action.str.contains(\"SUB\")) & (~new_df.Action.str.contains(\"TIMEOUT\"))]\n",
    "\n",
    "        if \"FT\" in new_df.Action.values[-1]:\n",
    "            outcome = \"Shooting Foul\"\n",
    "        elif \"MISS\" in new_df.Action.values[-1]:\n",
    "            outcome = \"Miss\"\n",
    "        elif \"GOOD\" in new_df.Action.values[-1]:\n",
    "            outcome = \"Make\"\n",
    "        elif \"TURNOVER\" in new_df.Action.values[-1]:\n",
    "            outcome = \"Turnover\"\n",
    "        else:\n",
    "            outcome = \"FLAG\"\n",
    "\n",
    "        start = new_df.Time.values[0]\n",
    "        if new_df.Time.values[-1] == '--':\n",
    "            end = new_df.Time.values[-2]\n",
    "        else:\n",
    "            end = new_df.Time.values[-1]\n",
    "\n",
    "        if new_df.Team.values[-1] == 'Colorado':\n",
    "            new_df['new'] = new_df.Action.apply(lambda i : \"FT\" in i)\n",
    "            if (new_df.new.sum() <= 1) and (outcome != \"FLAG\"):\n",
    "                lengths.append(time_passed(start, end))\n",
    "                outcomes.append(outcome)\n",
    "            \n",
    "    return pd.DataFrame({'Length' : lengths, 'Outcome' : outcomes})"
   ]
  },
  {
   "cell_type": "code",
   "execution_count": 370,
   "id": "a4f253c2",
   "metadata": {
    "scrolled": true
   },
   "outputs": [],
   "source": [
    "colorado = pd.concat([possession_length(df1),\n",
    "                      possession_length(df2),\n",
    "                      possession_length(df3),\n",
    "                      possession_length(df4)])"
   ]
  },
  {
   "cell_type": "code",
   "execution_count": 371,
   "id": "599d57fa",
   "metadata": {},
   "outputs": [],
   "source": [
    "colorado['<10sec'] = colorado.Length < 10\n",
    "colorado['>=10sec'] = colorado.Length >= 10"
   ]
  },
  {
   "cell_type": "code",
   "execution_count": 372,
   "id": "6f996ced",
   "metadata": {},
   "outputs": [
    {
     "name": "stdout",
     "output_type": "stream",
     "text": [
      "Possessions lasting <10 seconds:\n"
     ]
    },
    {
     "data": {
      "text/html": [
       "<div>\n",
       "<style scoped>\n",
       "    .dataframe tbody tr th:only-of-type {\n",
       "        vertical-align: middle;\n",
       "    }\n",
       "\n",
       "    .dataframe tbody tr th {\n",
       "        vertical-align: top;\n",
       "    }\n",
       "\n",
       "    .dataframe thead th {\n",
       "        text-align: right;\n",
       "    }\n",
       "</style>\n",
       "<table border=\"1\" class=\"dataframe\">\n",
       "  <thead>\n",
       "    <tr style=\"text-align: right;\">\n",
       "      <th></th>\n",
       "      <th>Count</th>\n",
       "      <th>%</th>\n",
       "    </tr>\n",
       "    <tr>\n",
       "      <th>Outcome</th>\n",
       "      <th></th>\n",
       "      <th></th>\n",
       "    </tr>\n",
       "  </thead>\n",
       "  <tbody>\n",
       "    <tr>\n",
       "      <th>Make</th>\n",
       "      <td>19</td>\n",
       "      <td>27.9</td>\n",
       "    </tr>\n",
       "    <tr>\n",
       "      <th>Miss</th>\n",
       "      <td>19</td>\n",
       "      <td>27.9</td>\n",
       "    </tr>\n",
       "    <tr>\n",
       "      <th>Shooting Foul</th>\n",
       "      <td>16</td>\n",
       "      <td>23.5</td>\n",
       "    </tr>\n",
       "    <tr>\n",
       "      <th>Turnover</th>\n",
       "      <td>14</td>\n",
       "      <td>20.6</td>\n",
       "    </tr>\n",
       "  </tbody>\n",
       "</table>\n",
       "</div>"
      ],
      "text/plain": [
       "               Count     %\n",
       "Outcome                   \n",
       "Make              19  27.9\n",
       "Miss              19  27.9\n",
       "Shooting Foul     16  23.5\n",
       "Turnover          14  20.6"
      ]
     },
     "metadata": {},
     "output_type": "display_data"
    },
    {
     "name": "stdout",
     "output_type": "stream",
     "text": [
      "Possessions lasting 10+ seconds:\n"
     ]
    },
    {
     "data": {
      "text/html": [
       "<div>\n",
       "<style scoped>\n",
       "    .dataframe tbody tr th:only-of-type {\n",
       "        vertical-align: middle;\n",
       "    }\n",
       "\n",
       "    .dataframe tbody tr th {\n",
       "        vertical-align: top;\n",
       "    }\n",
       "\n",
       "    .dataframe thead th {\n",
       "        text-align: right;\n",
       "    }\n",
       "</style>\n",
       "<table border=\"1\" class=\"dataframe\">\n",
       "  <thead>\n",
       "    <tr style=\"text-align: right;\">\n",
       "      <th></th>\n",
       "      <th>Count</th>\n",
       "      <th>%</th>\n",
       "    </tr>\n",
       "    <tr>\n",
       "      <th>Outcome</th>\n",
       "      <th></th>\n",
       "      <th></th>\n",
       "    </tr>\n",
       "  </thead>\n",
       "  <tbody>\n",
       "    <tr>\n",
       "      <th>Make</th>\n",
       "      <td>27</td>\n",
       "      <td>24.3</td>\n",
       "    </tr>\n",
       "    <tr>\n",
       "      <th>Miss</th>\n",
       "      <td>47</td>\n",
       "      <td>42.3</td>\n",
       "    </tr>\n",
       "    <tr>\n",
       "      <th>Shooting Foul</th>\n",
       "      <td>6</td>\n",
       "      <td>5.4</td>\n",
       "    </tr>\n",
       "    <tr>\n",
       "      <th>Turnover</th>\n",
       "      <td>31</td>\n",
       "      <td>27.9</td>\n",
       "    </tr>\n",
       "  </tbody>\n",
       "</table>\n",
       "</div>"
      ],
      "text/plain": [
       "               Count     %\n",
       "Outcome                   \n",
       "Make              27  24.3\n",
       "Miss              47  42.3\n",
       "Shooting Foul      6   5.4\n",
       "Turnover          31  27.9"
      ]
     },
     "metadata": {},
     "output_type": "display_data"
    }
   ],
   "source": [
    "under10 = colorado[(colorado['<10sec'])].groupby('Outcome').count()\n",
    "under10['Count'] = under10['Length']\n",
    "under10['%'] = 100 * round(under10.Count / sum(under10.Count), 3)\n",
    "\n",
    "print(\"Possessions lasting <10 seconds:\")\n",
    "display(under10[['Count', '%']])\n",
    "\n",
    "\n",
    "\n",
    "over10 = colorado[(colorado['>=10sec'])].groupby('Outcome').count()\n",
    "over10['Count'] = over10['Length']\n",
    "over10['%'] = 100 * round(over10.Count / sum(over10.Count), 3)\n",
    "\n",
    "print(\"Possessions lasting 10+ seconds:\")\n",
    "display(over10[['Count', '%']])"
   ]
  },
  {
   "cell_type": "code",
   "execution_count": 373,
   "id": "09888a63",
   "metadata": {},
   "outputs": [
    {
     "data": {
      "text/html": [
       "<div>\n",
       "<style scoped>\n",
       "    .dataframe tbody tr th:only-of-type {\n",
       "        vertical-align: middle;\n",
       "    }\n",
       "\n",
       "    .dataframe tbody tr th {\n",
       "        vertical-align: top;\n",
       "    }\n",
       "\n",
       "    .dataframe thead th {\n",
       "        text-align: right;\n",
       "    }\n",
       "</style>\n",
       "<table border=\"1\" class=\"dataframe\">\n",
       "  <thead>\n",
       "    <tr style=\"text-align: right;\">\n",
       "      <th></th>\n",
       "      <th>Count</th>\n",
       "      <th>%</th>\n",
       "    </tr>\n",
       "    <tr>\n",
       "      <th>Possession Length</th>\n",
       "      <th></th>\n",
       "      <th></th>\n",
       "    </tr>\n",
       "  </thead>\n",
       "  <tbody>\n",
       "    <tr>\n",
       "      <th>&lt;10 sec</th>\n",
       "      <td>68</td>\n",
       "      <td>38.0</td>\n",
       "    </tr>\n",
       "    <tr>\n",
       "      <th>10+ sec</th>\n",
       "      <td>111</td>\n",
       "      <td>62.0</td>\n",
       "    </tr>\n",
       "  </tbody>\n",
       "</table>\n",
       "</div>"
      ],
      "text/plain": [
       "                   Count     %\n",
       "Possession Length             \n",
       "<10 sec               68  38.0\n",
       "10+ sec              111  62.0"
      ]
     },
     "execution_count": 373,
     "metadata": {},
     "output_type": "execute_result"
    }
   ],
   "source": [
    "by_length = colorado.groupby(\"<10sec\").count()\n",
    "\n",
    "by_length['Count'] = by_length.Length\n",
    "by_length['%'] = 100 * round(by_length.Count / sum(by_length.Count), 3)\n",
    "\n",
    "by_length['Possession Length'] = by_length.index.map({False : \"10+ sec\", True : \"<10 sec\"})\n",
    "by_length.index = by_length['Possession Length']\n",
    "\n",
    "by_length[['Count', '%']].sort_values(by='Possession Length', ascending=False)"
   ]
  },
  {
   "cell_type": "code",
   "execution_count": 368,
   "id": "fe51da0b",
   "metadata": {},
   "outputs": [
    {
     "data": {
      "text/plain": [
       "14.2"
      ]
     },
     "execution_count": 368,
     "metadata": {},
     "output_type": "execute_result"
    }
   ],
   "source": [
    "colorado.Length.mean().round(1)"
   ]
  },
  {
   "cell_type": "code",
   "execution_count": null,
   "id": "6ad98d35",
   "metadata": {},
   "outputs": [],
   "source": []
  }
 ],
 "metadata": {
  "kernelspec": {
   "display_name": "Python 3 (ipykernel)",
   "language": "python",
   "name": "python3"
  },
  "language_info": {
   "codemirror_mode": {
    "name": "ipython",
    "version": 3
   },
   "file_extension": ".py",
   "mimetype": "text/x-python",
   "name": "python",
   "nbconvert_exporter": "python",
   "pygments_lexer": "ipython3",
   "version": "3.9.13"
  }
 },
 "nbformat": 4,
 "nbformat_minor": 5
}
