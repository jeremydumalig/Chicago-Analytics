{
 "cells": [
  {
   "cell_type": "code",
   "execution_count": 3,
   "id": "567e704f",
   "metadata": {},
   "outputs": [
    {
     "data": {
      "text/html": [
       "<div>\n",
       "<style scoped>\n",
       "    .dataframe tbody tr th:only-of-type {\n",
       "        vertical-align: middle;\n",
       "    }\n",
       "\n",
       "    .dataframe tbody tr th {\n",
       "        vertical-align: top;\n",
       "    }\n",
       "\n",
       "    .dataframe thead th {\n",
       "        text-align: right;\n",
       "    }\n",
       "</style>\n",
       "<table border=\"1\" class=\"dataframe\">\n",
       "  <thead>\n",
       "    <tr style=\"text-align: right;\">\n",
       "      <th></th>\n",
       "      <th>Play Type</th>\n",
       "      <th>Outcome</th>\n",
       "    </tr>\n",
       "  </thead>\n",
       "  <tbody>\n",
       "    <tr>\n",
       "      <th>0</th>\n",
       "      <td>Cut</td>\n",
       "      <td>1</td>\n",
       "    </tr>\n",
       "    <tr>\n",
       "      <th>1</th>\n",
       "      <td>Cut</td>\n",
       "      <td>1</td>\n",
       "    </tr>\n",
       "    <tr>\n",
       "      <th>2</th>\n",
       "      <td>Cut</td>\n",
       "      <td>1</td>\n",
       "    </tr>\n",
       "    <tr>\n",
       "      <th>3</th>\n",
       "      <td>Transition</td>\n",
       "      <td>0</td>\n",
       "    </tr>\n",
       "    <tr>\n",
       "      <th>4</th>\n",
       "      <td>Transition</td>\n",
       "      <td>1</td>\n",
       "    </tr>\n",
       "  </tbody>\n",
       "</table>\n",
       "</div>"
      ],
      "text/plain": [
       "    Play Type Outcome\n",
       "0         Cut       1\n",
       "1         Cut       1\n",
       "2         Cut       1\n",
       "3  Transition       0\n",
       "4  Transition       1"
      ]
     },
     "execution_count": 3,
     "metadata": {},
     "output_type": "execute_result"
    }
   ],
   "source": [
    "import pandas as pd\n",
    "\n",
    "raw_shots = \"\"\"Cut 1\n",
    "Cut 1\n",
    "Cut 1\n",
    "Transition 0\n",
    "Transition 1\n",
    "Transition 1\n",
    "Transition 1\n",
    "Transition 1\n",
    "Baseline Drive 1\n",
    "Baseline Drive 0\n",
    "Baseline Drive 0\n",
    "Drive 0\n",
    "Drive 0\n",
    "Drive 0\n",
    "Drive 0\n",
    "Drive 0\n",
    "Drive 0\n",
    "Drive 0\n",
    "Drive 0\n",
    "Drive 0\n",
    "Drive 0\"\"\"\n",
    "\n",
    "shots = raw_shots.split(\"\\n\")\n",
    "\n",
    "shots_df = pd.DataFrame(shots, columns=[\"Play Type\"])\n",
    "shots_df['Outcome'] = shots_df['Play Type'].apply(lambda i : i[-1])\n",
    "shots_df['Play Type'] = shots_df['Play Type'].apply(lambda i : i[0:-2])\n",
    "\n",
    "shots_df.head()"
   ]
  },
  {
   "cell_type": "code",
   "execution_count": 4,
   "id": "6c2d49bf",
   "metadata": {},
   "outputs": [],
   "source": [
    "shots_df.to_csv(\"anisha_chintala.csv\")"
   ]
  }
 ],
 "metadata": {
  "kernelspec": {
   "display_name": "Python 3 (ipykernel)",
   "language": "python",
   "name": "python3"
  },
  "language_info": {
   "codemirror_mode": {
    "name": "ipython",
    "version": 3
   },
   "file_extension": ".py",
   "mimetype": "text/x-python",
   "name": "python",
   "nbconvert_exporter": "python",
   "pygments_lexer": "ipython3",
   "version": "3.9.13"
  }
 },
 "nbformat": 4,
 "nbformat_minor": 5
}
