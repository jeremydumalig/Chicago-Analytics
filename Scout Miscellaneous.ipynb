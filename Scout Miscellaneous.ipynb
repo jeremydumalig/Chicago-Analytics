{
 "cells": [
  {
   "cell_type": "code",
   "execution_count": 15,
   "id": "567e704f",
   "metadata": {
    "scrolled": true
   },
   "outputs": [],
   "source": [
    "import pandas as pd\n",
    "\n",
    "raw_shots = \"\"\"\n",
    "Catch + Shoot (3PT) 0\n",
    "Catch + Shoot (3PT) 0\n",
    "Pull-Up (3PT) 0\n",
    "Catch + Shoot (3PT) 0\n",
    "Catch + Shoot (3PT) 0\n",
    "Pull-Up (3PT) 0\n",
    "Pull-Up (2PT) 1\n",
    "Pull-Up (2PT) 0\n",
    "Catch + Shoot (3PT) 0\n",
    "Pull-Up (3PT) 0\n",
    "Pull-Up (2PT) 0\n",
    "Catch + Shoot (3PT) 0\n",
    "Catch + Shoot (3PT) 0\n",
    "Pull-Up (2PT) 0\n",
    "Pull-Up (2PT) 0\n",
    "Catch + Shoot (3PT) 1\n",
    "Catch + Shoot (3PT) 0\n",
    "Drive Right 1\n",
    "Pull-Up (3PT) 0\n",
    "Pull-Up (2PT) 1\n",
    "Drive Left 1\n",
    "Pull-Up (3PT) 0\n",
    "Catch + Shoot (3PT) 0\n",
    "Catch + Shoot (3PT) 1\n",
    "Pull-Up (2PT) 0\n",
    "Drive Left 0\n",
    "Pull-Up (2PT) 0\n",
    "Pull-Up (2PT) 1\n",
    "Pull-Up (3PT) 0\n",
    "Pull-Up (3PT) 0\n",
    "Pull-Up (2PT) 0\n",
    "Drive Left 0\n",
    "Catch + Shoot (3PT) 1\n",
    "Drive Right 0\n",
    "Pull-Up (2PT) 1\n",
    "Catch + Shoot (3PT) 0\n",
    "Drive Left 0\n",
    "Pull-Up (2PT) 0\n",
    "Catch + Shoot (3PT) 0\n",
    "Catch + Shoot (3PT) 0\n",
    "Catch + Shoot (3PT) 0\n",
    "Pull-Up (2PT) 0\n",
    "Pull-Up (2PT) 0\n",
    "Catch + Shoot (3PT) 0\n",
    "Pull-Up (2PT) 0\n",
    "Pull-Up (2PT) 0\n",
    "Pull-Up (2PT) 0\n",
    "Catch + Shoot (3PT) 0\n",
    "Catch + Shoot (3PT) 0\n",
    "Pull-Up (3PT) 0\n",
    "Drive Left 1\n",
    "\"\"\"\n",
    "\n",
    "shots = raw_shots.split(\"\\n\")[1:-1]\n",
    " \n",
    "shots_df = pd.DataFrame(shots, columns=[\"Play Type\"])\n",
    "shots_df['Outcome'] = shots_df['Play Type'].apply(lambda i : i[-1])\n",
    "shots_df['Play Type'] = shots_df['Play Type'].apply(lambda i : i[0:-2])"
   ]
  },
  {
   "cell_type": "code",
   "execution_count": 16,
   "id": "6c2d49bf",
   "metadata": {},
   "outputs": [],
   "source": [
    "shots_df.to_csv(\"marietta0.csv\")\n",
    "\n",
    "# 5 reject"
   ]
  },
  {
   "cell_type": "code",
   "execution_count": 18,
   "id": "46b2ca52",
   "metadata": {},
   "outputs": [],
   "source": [
    "players = [5, 21, 0, 32, 14, 25, 3, 34]\n",
    "school = \"marietta\"\n",
    "\n",
    "shots = pd.concat([pd.read_csv(school + str(i) + \".csv\") for i in players]).iloc[:, 1:].reset_index(drop=True)\n",
    "\n",
    "shots.to_csv(school + \"_all.csv\")"
   ]
  },
  {
   "cell_type": "code",
   "execution_count": null,
   "id": "ec6ee813",
   "metadata": {},
   "outputs": [],
   "source": []
  }
 ],
 "metadata": {
  "kernelspec": {
   "display_name": "Python 3 (ipykernel)",
   "language": "python",
   "name": "python3"
  },
  "language_info": {
   "codemirror_mode": {
    "name": "ipython",
    "version": 3
   },
   "file_extension": ".py",
   "mimetype": "text/x-python",
   "name": "python",
   "nbconvert_exporter": "python",
   "pygments_lexer": "ipython3",
   "version": "3.9.13"
  }
 },
 "nbformat": 4,
 "nbformat_minor": 5
}
