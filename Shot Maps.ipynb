{
 "cells": [
  {
   "cell_type": "code",
   "execution_count": 16,
   "id": "6c555d13",
   "metadata": {},
   "outputs": [],
   "source": [
    "import matplotlib.pyplot as plt\n",
    "import pandas as pd\n",
    "import numpy as np"
   ]
  },
  {
   "cell_type": "code",
   "execution_count": 17,
   "id": "7b1362b3",
   "metadata": {},
   "outputs": [],
   "source": [
    "# Half-Court is 50' x 47'\n",
    "\n",
    "X = np.repeat(np.arange(0, 50, 0.2), 47*5)\n",
    "Y = np.arange(0, 47, 0.2)\n",
    "while len(Y) != (50*5 * 47*5):\n",
    "    Y = np.concatenate([Y, np.arange(0, 47, 0.2)])"
   ]
  },
  {
   "cell_type": "code",
   "execution_count": 18,
   "id": "d46fa77a",
   "metadata": {},
   "outputs": [],
   "source": [
    "# Generate court \n",
    "court = pd.DataFrame({'X':X, 'Y':Y})\n",
    "\n",
    "# Coefficients for parabola for 3-point arc\n",
    "a = -0.028409090909091\n",
    "b = 1.4204545454545\n",
    "c = 9.9943181818182\n",
    "\n",
    "# Define regions\n",
    "def area(x, y):\n",
    "    if (y <= 19) and (x >= 19) and (x <= 31) and (y > 0):\n",
    "        return \"P\"\n",
    "    elif (y > 0) and (y <= 14) and (x > 0) and (x < 3):\n",
    "        return \"LC\"\n",
    "    elif (y > 0) and (y <= 14) and (x > 46.8) and (x < 49.8):\n",
    "        return \"RC\"\n",
    "    elif (y > 0) and (y <= 14) and (x >= 3) and (x < 19):\n",
    "        return \"LB\"\n",
    "    elif (y > 0) and (y <= 14) and (x > 31) and (x <= 46.8):\n",
    "        return \"RB\"\n",
    "    elif (y < 46.8) and (y > (a*x**2 + b*x + c)) and (y > (19/6)*(x - 25)) and (y > (-19/6)*(x - 25)):\n",
    "        return \"T\"\n",
    "    elif (x > 0) and (y < 46.8) and (y > (a*x**2 + b*x + c)) and (y > 14) and (y <= (-19/6)*(x - 25)):\n",
    "        return \"LW\"\n",
    "    elif (x < 49.8) and (y < 46.8) and (y > (a*x**2 + b*x + c)) and (y > 14) and (y <= (19/6)*(x - 25)):\n",
    "        return \"RW\"\n",
    "    elif (y <= (a*x**2 + b*x + c)) and (x < 19) and (y <= (-19/6)*(x - 25)) and (y > 14):\n",
    "        return \"LE\"\n",
    "    elif (y <= (a*x**2 + b*x + c)) and (x > 31) and (y <= (19/6)*(x - 25)) and (y > 14):\n",
    "        return \"RE\"\n",
    "    elif (y <= (a*x**2 + b*x + c)) and (y > (-19/6)*(x - 25)) and (y > (19/6)*(x - 25)) and (y > 19):\n",
    "        return \"TK\"\n",
    "    else:\n",
    "        return \"OOB\"\n",
    "\n",
    "court['Region'] = court.apply(lambda df: area(df['X'], df['Y']), axis=1)"
   ]
  },
  {
   "cell_type": "code",
   "execution_count": 31,
   "id": "44ef1582",
   "metadata": {},
   "outputs": [],
   "source": [
    "# Sample data\n",
    "\n",
    "kobe = pd.read_csv(\"kobe_data.csv\")\n",
    "\n",
    "kobe = kobe[['loc_x', 'loc_y', 'shot_made_flag']]\n",
    "kobe['loc_x'] = kobe['loc_x'] / 10 + 25\n",
    "kobe['loc_y'] = kobe['loc_y'] / 10\n",
    "kobe['Region'] = kobe.apply(lambda df: area(df['loc_x'], df['loc_y']), axis=1)\n",
    "kobe = kobe[(kobe.Region != \"OOB\")]\n",
    "kobe = kobe.dropna()\n",
    "\n",
    "kobe.to_csv(\"kobe_regions.csv\")"
   ]
  }
 ],
 "metadata": {
  "kernelspec": {
   "display_name": "Python 3",
   "language": "python",
   "name": "python3"
  },
  "language_info": {
   "codemirror_mode": {
    "name": "ipython",
    "version": 3
   },
   "file_extension": ".py",
   "mimetype": "text/x-python",
   "name": "python",
   "nbconvert_exporter": "python",
   "pygments_lexer": "ipython3",
   "version": "3.9.13"
  }
 },
 "nbformat": 4,
 "nbformat_minor": 5
}
