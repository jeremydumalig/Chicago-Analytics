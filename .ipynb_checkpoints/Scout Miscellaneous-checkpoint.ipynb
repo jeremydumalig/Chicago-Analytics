{
 "cells": [
  {
   "cell_type": "code",
   "execution_count": 15,
   "id": "567e704f",
   "metadata": {},
   "outputs": [
    {
     "data": {
      "text/html": [
       "<div>\n",
       "<style scoped>\n",
       "    .dataframe tbody tr th:only-of-type {\n",
       "        vertical-align: middle;\n",
       "    }\n",
       "\n",
       "    .dataframe tbody tr th {\n",
       "        vertical-align: top;\n",
       "    }\n",
       "\n",
       "    .dataframe thead th {\n",
       "        text-align: right;\n",
       "    }\n",
       "</style>\n",
       "<table border=\"1\" class=\"dataframe\">\n",
       "  <thead>\n",
       "    <tr style=\"text-align: right;\">\n",
       "      <th></th>\n",
       "      <th>Play Type</th>\n",
       "      <th>Outcome</th>\n",
       "    </tr>\n",
       "  </thead>\n",
       "  <tbody>\n",
       "    <tr>\n",
       "      <th>31</th>\n",
       "      <td>Left</td>\n",
       "      <td>P</td>\n",
       "    </tr>\n",
       "    <tr>\n",
       "      <th>32</th>\n",
       "      <td>Reject</td>\n",
       "      <td>0</td>\n",
       "    </tr>\n",
       "    <tr>\n",
       "      <th>33</th>\n",
       "      <td>Left</td>\n",
       "      <td>P</td>\n",
       "    </tr>\n",
       "    <tr>\n",
       "      <th>34</th>\n",
       "      <td>Left</td>\n",
       "      <td>0</td>\n",
       "    </tr>\n",
       "    <tr>\n",
       "      <th>35</th>\n",
       "      <td>Left</td>\n",
       "      <td>T</td>\n",
       "    </tr>\n",
       "  </tbody>\n",
       "</table>\n",
       "</div>"
      ],
      "text/plain": [
       "   Play Type Outcome\n",
       "31      Left       P\n",
       "32    Reject       0\n",
       "33      Left       P\n",
       "34      Left       0\n",
       "35      Left       T"
      ]
     },
     "execution_count": 15,
     "metadata": {},
     "output_type": "execute_result"
    }
   ],
   "source": [
    "import pandas as pd\n",
    "\n",
    "raw_shots = \"\"\"Left T\n",
    "Right P\n",
    "Right P\n",
    "Left P\n",
    "Left P\n",
    "Right T\n",
    "Right F\n",
    "Reject 1\n",
    "Left P\n",
    "Reject 1\n",
    "Right P\n",
    "Reject F\n",
    "Left P\n",
    "Left P\n",
    "Right 1\n",
    "Reject P\n",
    "Left P\n",
    "Right F\n",
    "Reject 1\n",
    "Reject 1\n",
    "Right P\n",
    "Right P\n",
    "Left 0\n",
    "Left T\n",
    "Reject P\n",
    "Reject P\n",
    "Reject 0\n",
    "Right P\n",
    "Right P\n",
    "Left P\n",
    "Right 0\n",
    "Left P\n",
    "Reject 0\n",
    "Left P\n",
    "Left 0\n",
    "Left T\"\"\"\n",
    "\n",
    "shots = raw_shots.split(\"\\n\")\n",
    "\n",
    "shots_df = pd.DataFrame(shots, columns=[\"Play Type\"])\n",
    "shots_df['Outcome'] = shots_df['Play Type'].apply(lambda i : i[-1])\n",
    "shots_df['Play Type'] = shots_df['Play Type'].apply(lambda i : i[0:-2])\n",
    "\n",
    "shots_df.head()"
   ]
  },
  {
   "cell_type": "code",
   "execution_count": 16,
   "id": "6c2d49bf",
   "metadata": {},
   "outputs": [],
   "source": [
    "shots_df.to_csv(\"nyu_pnr.csv\")"
   ]
  }
 ],
 "metadata": {
  "kernelspec": {
   "display_name": "Python 3 (ipykernel)",
   "language": "python",
   "name": "python3"
  },
  "language_info": {
   "codemirror_mode": {
    "name": "ipython",
    "version": 3
   },
   "file_extension": ".py",
   "mimetype": "text/x-python",
   "name": "python",
   "nbconvert_exporter": "python",
   "pygments_lexer": "ipython3",
   "version": "3.9.13"
  }
 },
 "nbformat": 4,
 "nbformat_minor": 5
}
