{
 "cells": [
  {
   "cell_type": "code",
   "execution_count": 1,
   "metadata": {},
   "outputs": [],
   "source": [
    "import pandas as pd\n",
    "import numpy as np\n",
    "import matplotlib.pyplot as plt\n",
    "\n",
    "pd.options.mode.chained_assignment = None\n",
    "pd.set_option('display.max_rows', None)\n",
    "pd.set_option('display.max_columns', None)\n",
    "pd.set_option('display.max_colwidth', None)"
   ]
  },
  {
   "cell_type": "code",
   "execution_count": 2,
   "metadata": {},
   "outputs": [],
   "source": [
    "uchicago = pd.read_csv(\"season_plays23.csv\").iloc[:, 1:]\n",
    "w_uchicago = pd.read_csv(\"w_season_plays23.csv\").iloc[:, 1:]"
   ]
  },
  {
   "cell_type": "code",
   "execution_count": 5,
   "metadata": {},
   "outputs": [],
   "source": [
    "team_start = \"10:00\"\n",
    "current = w_uchicago\n",
    "uaa = True"
   ]
  },
  {
   "cell_type": "code",
   "execution_count": 6,
   "metadata": {},
   "outputs": [],
   "source": [
    "teams = pd.unique(current.Opponent)\n",
    "if uaa:\n",
    "    teams = pd.unique(current.Opponent)[-5:]\n",
    "\n",
    "def time_passed(start, end):\n",
    "    start_time = int(start.split(\":\")[0])*60 + int(start.split(\":\")[1])\n",
    "    end_time = int(end.split(\":\")[0])*60 + int(end.split(\":\")[1])\n",
    "    \n",
    "    if start_time > end_time:\n",
    "        return start_time - end_time\n",
    "    else:\n",
    "        return 0"
   ]
  },
  {
   "cell_type": "code",
   "execution_count": 150,
   "metadata": {},
   "outputs": [],
   "source": [
    "def new_quarter_check(start, end):\n",
    "    first = int(start.split(\":\")[0])*60 + int(start.split(\":\")[1])\n",
    "    last = int(end.split(\":\")[0])*60 + int(end.split(\":\")[1])\n",
    "    \n",
    "    return (first < last)\n",
    "\n",
    "def and_one(df):\n",
    "    return (\"made\" in df.Action.values[0]) and (\"Foul\" in df.Action.values[1]) and (\"free throw\" in df.Action.values[2])\n",
    "\n",
    "def check_oreb(df):\n",
    "    for x in df.values:\n",
    "        if \"offensive rebound\" in x[2]:\n",
    "            if \"Chicago\" == x[3]:\n",
    "                return True"
   ]
  },
  {
   "cell_type": "code",
   "execution_count": 160,
   "metadata": {},
   "outputs": [],
   "source": [
    "def possession_length(df):\n",
    "    possessions = []\n",
    "    current = 1\n",
    "    for x in range(0, len(df)):\n",
    "        indexer = df.shape[0] - x - 1\n",
    "        if ('missed' in df.Action.values[indexer]) | ('made' in df.Action.values[indexer]) | ('Turnover' in df.Action.values[indexer]):\n",
    "            possessions.append(current)\n",
    "            current += 1\n",
    "        else:\n",
    "            possessions.append(current)\n",
    "\n",
    "    df['Possession'] = possessions[::-1]\n",
    "\n",
    "    lengths = []\n",
    "    outcomes = []\n",
    "    for x in pd.unique(df.Possession):\n",
    "        new_df = pd.concat([df[(df.Possession == x)],\n",
    "                            df[(df.index == 1 + df[(df.Possession == x)].index.values[-1])] ])\n",
    "\n",
    "        new_df = new_df[(~new_df.Action.str.contains(\"goes to the bench\")) & (~new_df.Action.str.contains(\"enters the game\")) & (~new_df.Action.str.contains(\"TIMEOUT\"))]\n",
    "\n",
    "        if \"free throw\" in new_df.Action.values[-1]:\n",
    "            outcome = \"Shooting Foul\"\n",
    "        elif \"missed\" in new_df.Action.values[-1]:\n",
    "            outcome = \"Miss\"\n",
    "        elif \"made\" in new_df.Action.values[-1]:\n",
    "            outcome = \"Make\"\n",
    "        elif \"Turnover\" in new_df.Action.values[-1]:\n",
    "            outcome = \"Turnover\"\n",
    "        else:\n",
    "            outcome = \"FLAG\"\n",
    "\n",
    "        start = new_df.Time.values[0]\n",
    "        if len(new_df) == 1:\n",
    "            continue\n",
    "        if new_quarter_check(new_df.Time.values[0], new_df.Time.values[1]):\n",
    "            start == \"10:00\"\n",
    "        if new_df.Time.values[0] == \"00:04\":\n",
    "            if new_df.Action.values[0] == \"Turnover by HYNES,GRACE\":\n",
    "                start = \"10:00\"\n",
    "        if new_df.Time.values[0] == \"00:04\":\n",
    "            if new_df.Action.values[0] == \"BRUNS,NATALIE made layup\":\n",
    "                start = \"10:00\"\n",
    "        if new_df.Time.values[0] == \"00:00\":\n",
    "            if new_df.Action.values[0] == \"BRODNIK,MALLORY made layup\":\n",
    "                start = \"10:00\"\n",
    "        if new_df.Time.values[0] == \"00:01\":\n",
    "            if new_df.Action.values[0] == \"PLACHTA,EMILY missed 3-pt. jump shot\":\n",
    "                start = \"10:00\"\n",
    "        if new_df.Time.values[0] == \"00:00\":\n",
    "            if new_df.Action.values[0] == \"POWE,MARISSA missed layup\":\n",
    "                start = \"10:00\"\n",
    "        if new_df.Time.values[0] == \"00:04\":\n",
    "            if new_df.Action.values[0] == \"OHM,LULU missed jump shot\":\n",
    "                start = \"10:00\"\n",
    "        if new_df.Time.values[0] == \"00:00\":\n",
    "            if new_df.Action.values[0] == \"GRESKO,CAITLIN missed layup\":\n",
    "                start = \"10:00\"\n",
    "        if new_df.Time.values[0] == \"00:03\":\n",
    "            if new_df.Action.values[0] == \"Turnover by GAO,ASHLEY\":\n",
    "                start = \"10:00\"\n",
    "        if new_df.Time.values[0] == \"00:00\":\n",
    "            if new_df.Action.values[0] == \"NORTH,SOPHIA made layup\":\n",
    "                start = \"10:00\"\n",
    "        \n",
    "        if new_df.Time.values[-1] == '--':\n",
    "            end = new_df.Time.values[-2]\n",
    "        else:\n",
    "            end = new_df.Time.values[-1]\n",
    "            \n",
    "        if new_df.Team.values[-1] == 'Chicago':\n",
    "            new_df['new'] = new_df.Action.apply(lambda i : \"free throw\" in i)\n",
    "            \n",
    "            if and_one(new_df):\n",
    "                continue\n",
    "                \n",
    "            if check_oreb(new_df):\n",
    "                pass\n",
    "            \n",
    "            if (new_df.new.sum() <= 1) and (outcome != \"FLAG\"):\n",
    "                lengths.append(time_passed(start, end))\n",
    "                outcomes.append(outcome)\n",
    "                \n",
    "                if time_passed(start, end) < 5:\n",
    "                    if time_passed(start, end) > 0:\n",
    "                        #print(time_passed(start, end))\n",
    "                        pass#display(new_df)\n",
    "            \n",
    "    return pd.DataFrame({'Length' : lengths, 'Outcome' : outcomes})\n"
   ]
  },
  {
   "cell_type": "code",
   "execution_count": 161,
   "metadata": {},
   "outputs": [],
   "source": [
    "# take out 0s: 12"
   ]
  },
  {
   "cell_type": "code",
   "execution_count": 162,
   "metadata": {},
   "outputs": [],
   "source": [
    "uaa = w_uchicago[(w_uchicago.Game > max(w_uchicago.Game-5))]\n",
    "uaa['Team'] = (uaa.Chicago != uaa.Team)\n",
    "uaa = uaa[['Opponent', 'Time', 'Action', 'Team']]\n",
    "uaa = uaa.replace(True, \"Chicago\").replace(False, \"Opponent\")\n",
    "\n",
    "uaa1 = pd.concat([possession_length(uaa[(uaa.Opponent == \"Washington-St. Louis\")]),\n",
    "                  possession_length(uaa[(uaa.Opponent == \"Case Western Reserve\")]),\n",
    "                  possession_length(uaa[(uaa.Opponent == \"Carnegie Mellon\")])])"
   ]
  },
  {
   "cell_type": "code",
   "execution_count": 163,
   "metadata": {},
   "outputs": [],
   "source": [
    "uaa = w_uchicago[(w_uchicago.Game > max(w_uchicago.Game-5))]\n",
    "uaa['Team'] = (uaa.Chicago == uaa.Team)\n",
    "uaa = uaa[['Opponent', 'Time', 'Action', 'Team']]\n",
    "uaa = uaa.replace(True, \"Chicago\").replace(False, \"Opponent\")\n",
    "\n",
    "uaa2 = pd.concat([possession_length(uaa[(uaa.Opponent == \"New York U.\")]), \n",
    "                  possession_length(uaa[(uaa.Opponent == \"Brandeis\")])])"
   ]
  },
  {
   "cell_type": "code",
   "execution_count": 164,
   "metadata": {},
   "outputs": [
    {
     "data": {
      "text/plain": [
       "13.138248847926267"
      ]
     },
     "execution_count": 164,
     "metadata": {},
     "output_type": "execute_result"
    }
   ],
   "source": [
    "uaa_possessions = pd.concat([uaa1, uaa2])\n",
    "uaa_possessions = uaa_possessions.sort_values(by='Length', ascending=False).reset_index(drop=True)\n",
    "\n",
    "uaa_possessions = uaa_possessions[uaa_possessions.index < len(uaa_possessions)-12]\n",
    "\n",
    "np.mean(uaa_possessions.Length)"
   ]
  },
  {
   "cell_type": "code",
   "execution_count": null,
   "metadata": {},
   "outputs": [],
   "source": []
  }
 ],
 "metadata": {
  "kernelspec": {
   "display_name": "Python 3 (ipykernel)",
   "language": "python",
   "name": "python3"
  },
  "language_info": {
   "codemirror_mode": {
    "name": "ipython",
    "version": 3
   },
   "file_extension": ".py",
   "mimetype": "text/x-python",
   "name": "python",
   "nbconvert_exporter": "python",
   "pygments_lexer": "ipython3",
   "version": "3.9.13"
  }
 },
 "nbformat": 4,
 "nbformat_minor": 4
}
