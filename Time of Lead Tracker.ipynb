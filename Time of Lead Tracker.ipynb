{
 "cells": [
  {
   "cell_type": "code",
   "execution_count": 12,
   "metadata": {},
   "outputs": [],
   "source": [
    "import pandas as pd\n",
    "import numpy as np\n",
    "import matplotlib.pyplot as plt\n",
    "\n",
    "pd.options.mode.chained_assignment = None\n",
    "pd.set_option('display.max_rows', None)\n",
    "pd.set_option('display.max_columns', None)\n",
    "pd.set_option('display.max_colwidth', None)"
   ]
  },
  {
   "cell_type": "code",
   "execution_count": 13,
   "metadata": {},
   "outputs": [],
   "source": [
    "uchicago = pd.read_csv(\"season_plays23.csv\").iloc[:, 1:]\n",
    "w_uchicago = pd.read_csv(\"w_season_plays23.csv\").iloc[:, 1:]"
   ]
  },
  {
   "cell_type": "code",
   "execution_count": 14,
   "metadata": {},
   "outputs": [],
   "source": [
    "period = \"20:00\"\n",
    "current = uchicago\n",
    "uaa = True"
   ]
  },
  {
   "cell_type": "code",
   "execution_count": 15,
   "metadata": {},
   "outputs": [],
   "source": [
    "teams = pd.unique(current.Opponent)\n",
    "if uaa:\n",
    "    teams = pd.unique(current.Opponent)[-5:]\n",
    "\n",
    "def time_passed(start, end):\n",
    "    start_time = int(start.split(\":\")[0])*60 + int(start.split(\":\")[1])\n",
    "    end_time = int(end.split(\":\")[0])*60 + int(end.split(\":\")[1])\n",
    "    \n",
    "    if start_time > end_time:\n",
    "        return start_time - end_time\n",
    "    else:\n",
    "        return 0\n",
    "    \n",
    "def lead_tracker(score, chicago):\n",
    "    if int(score.split(\"-\")[0]) > int(score.split(\"-\")[1]):\n",
    "        if chicago == \"Home\":\n",
    "            return \"Losing\"\n",
    "        else:\n",
    "            return \"Winning\"\n",
    "    elif int(score.split(\"-\")[0]) < int(score.split(\"-\")[1]):\n",
    "        if chicago == \"Home\":\n",
    "            return \"Winning\"\n",
    "        else:\n",
    "            return \"Losing\"\n",
    "    else:\n",
    "        return \"Tie Game\"\n",
    "    \n",
    "current['Lead?'] = current.apply(lambda row: lead_tracker(row.Score, row.Chicago), axis=1)\n",
    "\n",
    "winning = 0\n",
    "losing = 0\n",
    "tie = 0\n",
    "\n",
    "for x in teams:\n",
    "    game = current[(current.Opponent == x)]\n",
    "    \n",
    "    start = period\n",
    "    for y in range(0, len(game.values)):\n",
    "        if start != period:\n",
    "            if game.values[y-1][3] == 1:\n",
    "                if game.values[y][3] == 2:\n",
    "                    start = period\n",
    "        \n",
    "        end = game.values[y][4]\n",
    "        time = time_passed(start, end)\n",
    "        \n",
    "        if game.values[y][-1] == \"Winning\":\n",
    "            winning += time\n",
    "        elif game.values[y][-1] == \"Losing\":\n",
    "            losing += time\n",
    "        else:\n",
    "            tie += time\n",
    "            \n",
    "        start = end"
   ]
  },
  {
   "cell_type": "code",
   "execution_count": 16,
   "metadata": {},
   "outputs": [
    {
     "data": {
      "text/html": [
       "<div>\n",
       "<style scoped>\n",
       "    .dataframe tbody tr th:only-of-type {\n",
       "        vertical-align: middle;\n",
       "    }\n",
       "\n",
       "    .dataframe tbody tr th {\n",
       "        vertical-align: top;\n",
       "    }\n",
       "\n",
       "    .dataframe thead th {\n",
       "        text-align: right;\n",
       "    }\n",
       "</style>\n",
       "<table border=\"1\" class=\"dataframe\">\n",
       "  <thead>\n",
       "    <tr style=\"text-align: right;\">\n",
       "      <th></th>\n",
       "      <th>Total Minutes</th>\n",
       "      <th>Frequency</th>\n",
       "    </tr>\n",
       "    <tr>\n",
       "      <th>Lead?</th>\n",
       "      <th></th>\n",
       "      <th></th>\n",
       "    </tr>\n",
       "  </thead>\n",
       "  <tbody>\n",
       "    <tr>\n",
       "      <th>Winning</th>\n",
       "      <td>100.8</td>\n",
       "      <td>50.6</td>\n",
       "    </tr>\n",
       "    <tr>\n",
       "      <th>Tie Game</th>\n",
       "      <td>26.2</td>\n",
       "      <td>13.1</td>\n",
       "    </tr>\n",
       "    <tr>\n",
       "      <th>Losing</th>\n",
       "      <td>72.4</td>\n",
       "      <td>36.3</td>\n",
       "    </tr>\n",
       "  </tbody>\n",
       "</table>\n",
       "</div>"
      ],
      "text/plain": [
       "          Total Minutes  Frequency\n",
       "Lead?                             \n",
       "Winning           100.8       50.6\n",
       "Tie Game           26.2       13.1\n",
       "Losing             72.4       36.3"
      ]
     },
     "execution_count": 16,
     "metadata": {},
     "output_type": "execute_result"
    }
   ],
   "source": [
    "times = [round(i, 1) for i in [winning/60, tie/60, losing/60]]\n",
    "\n",
    "lead = pd.DataFrame({\"Lead?\" : ['Winning', \"Tie Game\", \"Losing\"],\n",
    "                     \"Total Minutes\" : times, \n",
    "                     \"Frequency\" : [round(100*t/sum(times), 1) for t in times]})\n",
    "\n",
    "lead.set_index(\"Lead?\")"
   ]
  },
  {
   "cell_type": "code",
   "execution_count": null,
   "metadata": {},
   "outputs": [],
   "source": []
  }
 ],
 "metadata": {
  "kernelspec": {
   "display_name": "Python 3 (ipykernel)",
   "language": "python",
   "name": "python3"
  },
  "language_info": {
   "codemirror_mode": {
    "name": "ipython",
    "version": 3
   },
   "file_extension": ".py",
   "mimetype": "text/x-python",
   "name": "python",
   "nbconvert_exporter": "python",
   "pygments_lexer": "ipython3",
   "version": "3.9.13"
  }
 },
 "nbformat": 4,
 "nbformat_minor": 4
}
